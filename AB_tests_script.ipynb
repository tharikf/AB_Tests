{
 "cells": [
  {
   "cell_type": "markdown",
   "id": "d3d676a0",
   "metadata": {},
   "source": [
    "### AB Test Project!\n",
    "\n",
    "Data source: https://www.kaggle.com/datasets/faviovaz/marketing-ab-testing?select=marketing_AB.csv\n",
    "\n",
    "Marketing companies want to run successful campaigns, but the market is complex and several options can work. So normally they tun A/B tests, that is a randomized experimentation process wherein two or more versions of a variable (web page, page element, banner, etc.) are shown to different segments of people at the same time to determine which version leaves the maximum impact and drive business metrics."
   ]
  },
  {
   "cell_type": "markdown",
   "id": "539de498",
   "metadata": {},
   "source": [
    "#### Questions we would like to answer\n",
    "\n",
    "* 1 - Is there a association between the number of times a client sees an advertisement and their probability of being converted?\n",
    "\n",
    "* 2 - In terms of effectiveness, how does private advertisement compare to public advertisement?\n",
    "\n",
    "* 3 - Does the time of day (broken down into early morning, morning, afternoon, and evening) impact the success of a campaign?\n",
    "\n",
    "* 4 - Does the day of the week have an impact on the success of a campaign?"
   ]
  },
  {
   "cell_type": "markdown",
   "id": "d338c9cb",
   "metadata": {},
   "source": [
    "#### Importing libraries"
   ]
  },
  {
   "cell_type": "code",
   "execution_count": 1,
   "id": "2aec6558",
   "metadata": {},
   "outputs": [],
   "source": [
    "import pandas as pd\n",
    "import numpy as np"
   ]
  },
  {
   "cell_type": "markdown",
   "id": "7d4e64dd",
   "metadata": {},
   "source": [
    "#### Importing our modules"
   ]
  },
  {
   "cell_type": "code",
   "execution_count": 2,
   "id": "e20c7810",
   "metadata": {},
   "outputs": [],
   "source": [
    "from MODULES.cleaning_data import cleaning_data\n",
    "from MODULES.descriptive_analyses import descriptive_analyses\n",
    "from MODULES.logit_regression import logit_transformation\n",
    "from MODULES.examining_variables import continuous_viz\n",
    "from MODULES.normality_test import KS_test\n",
    "from MODULES.MW_test import MW_test\n",
    "from MODULES.chi2_test import chi2_test\n",
    "from MODULES.item3_crosstab import CrossTab_Item3\n",
    "from MODULES.item4_crosstab import CrossTab_Item4"
   ]
  },
  {
   "cell_type": "markdown",
   "id": "1ef93b73",
   "metadata": {},
   "source": [
    "#### Reading data with pandas"
   ]
  },
  {
   "cell_type": "code",
   "execution_count": 3,
   "id": "91f2f649",
   "metadata": {},
   "outputs": [],
   "source": [
    "df = pd.read_csv('marketing_AB.csv')"
   ]
  },
  {
   "cell_type": "markdown",
   "id": "61aaa7b9",
   "metadata": {},
   "source": [
    "#### Cleaning Data"
   ]
  },
  {
   "cell_type": "code",
   "execution_count": 4,
   "id": "b5bb4b1d",
   "metadata": {},
   "outputs": [],
   "source": [
    "df = cleaning_data(df)"
   ]
  },
  {
   "cell_type": "markdown",
   "id": "8201240b",
   "metadata": {},
   "source": [
    "#### Descriptive Analysis\n",
    "\n",
    "Descriptive analyses summary!\n",
    "\n",
    "The dataset contains 588,101 observations. We identified a conversion rate of 2.52%, indicating that the campaign was successful\n",
    "with a minority of clients. Specifically, more than 97% of clients were not converted. The private campaign was seen by 96% of the\n",
    "observations, but we did not observe significant differences between groups.\n",
    "\n",
    "Examining the contingency table, we see that the percentage of converted clients was 96% for those who did not see the private\n",
    "advertisement, and 97% for those who did see it. On average, each person saw the advertisement 24.84 times. The campaign was\n",
    "visible on any day of the week, but Friday had the most campaigns published, while Tuesday had the least. We also found that the\n",
    "most popular time for vehicle advertising was the afternoon, followed by the night. As expected, the least popular period for\n",
    "advertisement exhibition was dawn.\n",
    "\n",
    "Finally, using the contingency table, we observed a relationship between the total number of advertisements seen and the variable\n",
    "indicating whether the client was converted. The average number of advertisements seen by clients who were not converted was 23.29,\n",
    "while for clients who were converted, the average was 83.89. This difference was statistically significant."
   ]
  },
  {
   "cell_type": "code",
   "execution_count": 5,
   "id": "0ec8f0f5",
   "metadata": {},
   "outputs": [
    {
     "name": "stdout",
     "output_type": "stream",
     "text": [
      "Beginning of the descriptive analysis!\n",
      "--------------------------------------------------\n",
      "Dataset size: 588101!\n",
      "--------------------------------------------------\n",
      "Converted clients percentage: 2.52%\n",
      "Not converted clients percentage: 97.48%\n",
      "--------------------------------------------------\n",
      "Percentage of clients subject to private advertisement: 96.00%\n",
      "Percentage of clients subject to public advertisement: 4.00%\n",
      "--------------------------------------------------\n",
      "Quantity of advertisement seen by person, on average: 24.82\n",
      "--------------------------------------------------\n",
      "The percentage of total advertisements for each day of the week!\n",
      "Friday       15.75%\n",
      "Monday       14.81%\n",
      "Sunday       14.52%\n",
      "Thursday     14.11%\n",
      "Saturday     13.89%\n",
      "Wednesday    13.76%\n",
      "Tuesday      13.17%\n",
      "Name: most_ads_day, dtype: object\n",
      "--------------------------------------------------\n",
      "The percentage of total advertisements (early morning, morning, afternoon and evening)\n",
      "12h - 17h    43.84%\n",
      "18h - 23h     28.6%\n",
      "6h - 11h     24.19%\n",
      "0h - 5h       3.37%\n",
      "Name: most_ads_hour, dtype: object\n",
      "--------------------------------------------------\n",
      "Contingency Table!\n",
      "   converted  groups  total_ads\n",
      "0          0    0.96      23.29\n",
      "1          1    0.97      83.89\n",
      "--------------------------------------------------\n",
      "End of descriptive analysis!\n"
     ]
    }
   ],
   "source": [
    "descriptive_analyses(df)"
   ]
  },
  {
   "cell_type": "markdown",
   "id": "b4f58a8a",
   "metadata": {},
   "source": [
    "#### Investigation of total_ads variable\n",
    "\n",
    "We have a continuous variable that indicates the number of advertisements each client has seen. To determine whether this variable is normally distributed, we can use several methods such as kernel density graph, QQ-plot, and the Kolmogorov-Smirnov test.\n",
    "\n",
    "The kernel density graph and QQ-plot show that the distribution of the data is right skewed and not normal. The Kolmogorov-Smirnov test confirms this by rejecting the null hypothesis, indicating no evidence of normality. It is worth noting that this test is appropriate for large datasets.\n",
    "\n",
    "Overall, based on these findings, we can conclude that the variable indicating the number of advertisements seen by each client is not normally distributed."
   ]
  },
  {
   "cell_type": "code",
   "execution_count": 6,
   "id": "c76d5935",
   "metadata": {},
   "outputs": [
    {
     "data": {
      "image/png": "[encoded data removed]",
      "text/plain": [
       "<Figure size 720x576 with 2 Axes>"
      ]
     },
     "metadata": {
      "needs_background": "light"
     },
     "output_type": "display_data"
    }
   ],
   "source": [
    "continuous_viz(df, 'total_ads')"
   ]
  },
  {
   "cell_type": "code",
   "execution_count": 7,
   "id": "90b725b9",
   "metadata": {},
   "outputs": [
    {
     "name": "stdout",
     "output_type": "stream",
     "text": [
      "Reject H0! No evidence of normality! p-value = 0.0\n"
     ]
    }
   ],
   "source": [
    "KS_test(df, 'total_ads')"
   ]
  },
  {
   "cell_type": "markdown",
   "id": "6e056ef4",
   "metadata": {},
   "source": [
    "#### Question 1 - Is there a association between the number of times a client sees an advertisement and their probability of being converted?\n",
    "\n",
    "To test the relationship between the number of times a client saw the advertisement and their probability of conversion, we used a non-parametric Mann-Whitney test. This was because we found no evidence of normality in the distribution of the variable. The hypothesis of the test are.\n",
    "\n",
    "* H0: The distribution of both populations are identical.\n",
    "* H1: The distribution of populations is not identical\n",
    "\n",
    "Our analysis showed that the p-value of the test was low enough to reject the null hypothesis, indicating that the number of advertisements seen by a client is associated with their probability of being converted. However, we acknowledge that other variables, known as confounding variables, could also be affecting the results. Therefore, further investigation is necessary to determine the extent of their impact."
   ]
  },
  {
   "cell_type": "code",
   "execution_count": 8,
   "id": "d74c5fe1",
   "metadata": {},
   "outputs": [
    {
     "name": "stdout",
     "output_type": "stream",
     "text": [
      "p-value: 0.0\n"
     ]
    }
   ],
   "source": [
    "MW_test(df, 'total_ads')"
   ]
  },
  {
   "cell_type": "markdown",
   "id": "fc9d10dc",
   "metadata": {},
   "source": [
    "#### Question 2 - In terms of effectiveness, how does private advertisement compare to public advertisement?\n",
    "\n",
    "One possible strategy to investigate the impact of private versus public advertisements on the conversion rate is to compare the proportion of converted clients who saw each type of advertisement. We used the chi-squared independence test, which is appropriate for analyzing categorical data with a large number of observations, to compare the proportions of these two groups.\n",
    "\n",
    "Our analysis revealed that there was no significant difference between the proportions of converted clients who saw private versus public advertisements. Thus, we lack sufficient evidence to support the hypothesis that private advertisements have a significant effect on the conversion rate."
   ]
  },
  {
   "cell_type": "code",
   "execution_count": 9,
   "id": "45d2065c",
   "metadata": {},
   "outputs": [
    {
     "name": "stdout",
     "output_type": "stream",
     "text": [
      "Proportion of converted within clients in group one: 2.55%\n",
      "Proportion of converted within clients in group two: 1.79%\n",
      "P-value = 0.000000! We can reject the null hypothesis. There is a significant difference between the proportions!\n"
     ]
    }
   ],
   "source": [
    "chi2_test(df, 'converted', 'groups', 1, 0)"
   ]
  },
  {
   "cell_type": "markdown",
   "id": "de145a40",
   "metadata": {},
   "source": [
    "#### Question 3 - Does the time of day (broken down into early morning, morning, afternoon, and evening) impact the success of a campaign?\n",
    "\n",
    "We have observed that almost 44% of campaigns are published between 12 p.m. and 5 p.m., making it the most popular time period for campaign deployment. The evening and morning hours follow closely, with 28.6% and 24.19%, respectively. Conversely, only 3.37% of campaigns are published in the early morning. However, it's important to consider whether the time of day when a campaign is published has a significant impact on its conversion rate. We will conduct tests to investigate the impact of advertising timing on conversion rates."
   ]
  },
  {
   "cell_type": "code",
   "execution_count": 10,
   "id": "cc9e1690",
   "metadata": {},
   "outputs": [
    {
     "data": {
      "text/html": [
       "<div>\n",
       "<style scoped>\n",
       "    .dataframe tbody tr th:only-of-type {\n",
       "        vertical-align: middle;\n",
       "    }\n",
       "\n",
       "    .dataframe tbody tr th {\n",
       "        vertical-align: top;\n",
       "    }\n",
       "\n",
       "    .dataframe thead th {\n",
       "        text-align: right;\n",
       "    }\n",
       "</style>\n",
       "<table border=\"1\" class=\"dataframe\">\n",
       "  <thead>\n",
       "    <tr style=\"text-align: right;\">\n",
       "      <th>converted</th>\n",
       "      <th>0</th>\n",
       "      <th>1</th>\n",
       "    </tr>\n",
       "    <tr>\n",
       "      <th>most_ads_hour</th>\n",
       "      <th></th>\n",
       "      <th></th>\n",
       "    </tr>\n",
       "  </thead>\n",
       "  <tbody>\n",
       "    <tr>\n",
       "      <th>Afternoon</th>\n",
       "      <td>97.26%</td>\n",
       "      <td>2.74%</td>\n",
       "    </tr>\n",
       "    <tr>\n",
       "      <th>Evening</th>\n",
       "      <td>97.28%</td>\n",
       "      <td>2.72%</td>\n",
       "    </tr>\n",
       "    <tr>\n",
       "      <th>Morning</th>\n",
       "      <td>97.92%</td>\n",
       "      <td>2.08%</td>\n",
       "    </tr>\n",
       "    <tr>\n",
       "      <th>Early Morning</th>\n",
       "      <td>98.70%</td>\n",
       "      <td>1.30%</td>\n",
       "    </tr>\n",
       "  </tbody>\n",
       "</table>\n",
       "</div>"
      ],
      "text/plain": [
       "converted           0      1\n",
       "most_ads_hour               \n",
       "Afternoon      97.26%  2.74%\n",
       "Evening        97.28%  2.72%\n",
       "Morning        97.92%  2.08%\n",
       "Early Morning  98.70%  1.30%"
      ]
     },
     "execution_count": 10,
     "metadata": {},
     "output_type": "execute_result"
    }
   ],
   "source": [
    "# Instantiating the class\n",
    "ContingencyTable_Q3 = CrossTab_Item3(df, 'most_ads_hour')\n",
    "\n",
    "# Presenting the results\n",
    "ContingencyTable_Q3.crosstab_Q3"
   ]
  },
  {
   "cell_type": "markdown",
   "id": "b92ae0fb",
   "metadata": {},
   "source": [
    "#### Question 4\n",
    "\n",
    "We are interested in analyzing the conversion rates associated with each day of the week. Our goal is to determine whether there are significant differences between these conversion rates, which would inform us whether certain days may be more effective than others for advertising."
   ]
  },
  {
   "cell_type": "code",
   "execution_count": 12,
   "id": "4d0e4792",
   "metadata": {},
   "outputs": [
    {
     "data": {
      "text/html": [
       "<div>\n",
       "<style scoped>\n",
       "    .dataframe tbody tr th:only-of-type {\n",
       "        vertical-align: middle;\n",
       "    }\n",
       "\n",
       "    .dataframe tbody tr th {\n",
       "        vertical-align: top;\n",
       "    }\n",
       "\n",
       "    .dataframe thead th {\n",
       "        text-align: right;\n",
       "    }\n",
       "</style>\n",
       "<table border=\"1\" class=\"dataframe\">\n",
       "  <thead>\n",
       "    <tr style=\"text-align: right;\">\n",
       "      <th>converted</th>\n",
       "      <th>0</th>\n",
       "      <th>1</th>\n",
       "    </tr>\n",
       "    <tr>\n",
       "      <th>most_ads_day</th>\n",
       "      <th></th>\n",
       "      <th></th>\n",
       "    </tr>\n",
       "  </thead>\n",
       "  <tbody>\n",
       "    <tr>\n",
       "      <th>Monday</th>\n",
       "      <td>96.72%</td>\n",
       "      <td>3.28%</td>\n",
       "    </tr>\n",
       "    <tr>\n",
       "      <th>Tuesday</th>\n",
       "      <td>97.02%</td>\n",
       "      <td>2.98%</td>\n",
       "    </tr>\n",
       "    <tr>\n",
       "      <th>Wednesday</th>\n",
       "      <td>97.51%</td>\n",
       "      <td>2.49%</td>\n",
       "    </tr>\n",
       "    <tr>\n",
       "      <th>Sunday</th>\n",
       "      <td>97.55%</td>\n",
       "      <td>2.45%</td>\n",
       "    </tr>\n",
       "    <tr>\n",
       "      <th>Friday</th>\n",
       "      <td>97.78%</td>\n",
       "      <td>2.22%</td>\n",
       "    </tr>\n",
       "    <tr>\n",
       "      <th>Thursday</th>\n",
       "      <td>97.84%</td>\n",
       "      <td>2.16%</td>\n",
       "    </tr>\n",
       "    <tr>\n",
       "      <th>Saturday</th>\n",
       "      <td>97.89%</td>\n",
       "      <td>2.11%</td>\n",
       "    </tr>\n",
       "  </tbody>\n",
       "</table>\n",
       "</div>"
      ],
      "text/plain": [
       "converted          0      1\n",
       "most_ads_day               \n",
       "Monday        96.72%  3.28%\n",
       "Tuesday       97.02%  2.98%\n",
       "Wednesday     97.51%  2.49%\n",
       "Sunday        97.55%  2.45%\n",
       "Friday        97.78%  2.22%\n",
       "Thursday      97.84%  2.16%\n",
       "Saturday      97.89%  2.11%"
      ]
     },
     "execution_count": 12,
     "metadata": {},
     "output_type": "execute_result"
    }
   ],
   "source": [
    "# Instantiating the class\n",
    "ContingencyTable_Q4 = CrossTab_Item4(df, 'most_ads_day')\n",
    "\n",
    "# Presenting the results\n",
    "ContingencyTable_Q4.crosstab_Q4"
   ]
  },
  {
   "cell_type": "markdown",
   "id": "41a24dbd",
   "metadata": {},
   "source": [
    "#### Logit"
   ]
  },
  {
   "cell_type": "code",
   "execution_count": 14,
   "id": "dd003d51",
   "metadata": {},
   "outputs": [
    {
     "name": "stdout",
     "output_type": "stream",
     "text": [
      "Optimization terminated successfully.\n",
      "         Current function value: 0.108269\n",
      "         Iterations 8\n"
     ]
    },
    {
     "data": {
      "text/html": [
       "<table class=\"simpletable\">\n",
       "<caption>Logit Regression Results</caption>\n",
       "<tr>\n",
       "  <th>Dep. Variable:</th>       <td>converted</td>    <th>  No. Observations:  </th>  <td>588101</td> \n",
       "</tr>\n",
       "<tr>\n",
       "  <th>Model:</th>                 <td>Logit</td>      <th>  Df Residuals:      </th>  <td>588089</td> \n",
       "</tr>\n",
       "<tr>\n",
       "  <th>Method:</th>                 <td>MLE</td>       <th>  Df Model:          </th>  <td>    11</td> \n",
       "</tr>\n",
       "<tr>\n",
       "  <th>Date:</th>            <td>Fri, 31 Mar 2023</td> <th>  Pseudo R-squ.:     </th>  <td>0.08076</td>\n",
       "</tr>\n",
       "<tr>\n",
       "  <th>Time:</th>                <td>12:35:57</td>     <th>  Log-Likelihood:    </th> <td> -63673.</td>\n",
       "</tr>\n",
       "<tr>\n",
       "  <th>converged:</th>             <td>True</td>       <th>  LL-Null:           </th> <td> -69267.</td>\n",
       "</tr>\n",
       "<tr>\n",
       "  <th>Covariance Type:</th>     <td>nonrobust</td>    <th>  LLR p-value:       </th>  <td> 0.000</td> \n",
       "</tr>\n",
       "</table>\n",
       "<table class=\"simpletable\">\n",
       "<tr>\n",
       "        <td></td>           <th>coef</th>     <th>std err</th>      <th>z</th>      <th>P>|z|</th>  <th>[0.025</th>    <th>0.975]</th>  \n",
       "</tr>\n",
       "<tr>\n",
       "  <th>const</th>         <td>   -3.7040</td> <td>    0.022</td> <td> -165.843</td> <td> 0.000</td> <td>   -3.748</td> <td>   -3.660</td>\n",
       "</tr>\n",
       "<tr>\n",
       "  <th>total_ads</th>     <td>    0.0103</td> <td> 9.91e-05</td> <td>  103.404</td> <td> 0.000</td> <td>    0.010</td> <td>    0.010</td>\n",
       "</tr>\n",
       "<tr>\n",
       "  <th>Public_Ad</th>     <td>   -0.3853</td> <td>    0.052</td> <td>   -7.473</td> <td> 0.000</td> <td>   -0.486</td> <td>   -0.284</td>\n",
       "</tr>\n",
       "<tr>\n",
       "  <th>Early Morning</th> <td>   -0.8127</td> <td>    0.067</td> <td>  -12.154</td> <td> 0.000</td> <td>   -0.944</td> <td>   -0.682</td>\n",
       "</tr>\n",
       "<tr>\n",
       "  <th>Morning</th>       <td>   -0.3296</td> <td>    0.023</td> <td>  -14.282</td> <td> 0.000</td> <td>   -0.375</td> <td>   -0.284</td>\n",
       "</tr>\n",
       "<tr>\n",
       "  <th>Evening</th>       <td>    0.0151</td> <td>    0.020</td> <td>    0.762</td> <td> 0.446</td> <td>   -0.024</td> <td>    0.054</td>\n",
       "</tr>\n",
       "<tr>\n",
       "  <th>Tuesday</th>       <td>   -0.0322</td> <td>    0.029</td> <td>   -1.098</td> <td> 0.272</td> <td>   -0.090</td> <td>    0.025</td>\n",
       "</tr>\n",
       "<tr>\n",
       "  <th>Wednesday</th>     <td>   -0.2633</td> <td>    0.031</td> <td>   -8.590</td> <td> 0.000</td> <td>   -0.323</td> <td>   -0.203</td>\n",
       "</tr>\n",
       "<tr>\n",
       "  <th>Sunday</th>        <td>   -0.2525</td> <td>    0.030</td> <td>   -8.400</td> <td> 0.000</td> <td>   -0.311</td> <td>   -0.194</td>\n",
       "</tr>\n",
       "<tr>\n",
       "  <th>Friday</th>        <td>   -0.4633</td> <td>    0.031</td> <td>  -15.106</td> <td> 0.000</td> <td>   -0.523</td> <td>   -0.403</td>\n",
       "</tr>\n",
       "<tr>\n",
       "  <th>Thursday</th>      <td>   -0.4040</td> <td>    0.032</td> <td>  -12.772</td> <td> 0.000</td> <td>   -0.466</td> <td>   -0.342</td>\n",
       "</tr>\n",
       "<tr>\n",
       "  <th>Saturday</th>      <td>   -0.4423</td> <td>    0.032</td> <td>  -13.843</td> <td> 0.000</td> <td>   -0.505</td> <td>   -0.380</td>\n",
       "</tr>\n",
       "</table>"
      ],
      "text/plain": [
       "<class 'statsmodels.iolib.summary.Summary'>\n",
       "\"\"\"\n",
       "                           Logit Regression Results                           \n",
       "==============================================================================\n",
       "Dep. Variable:              converted   No. Observations:               588101\n",
       "Model:                          Logit   Df Residuals:                   588089\n",
       "Method:                           MLE   Df Model:                           11\n",
       "Date:                Fri, 31 Mar 2023   Pseudo R-squ.:                 0.08076\n",
       "Time:                        12:35:57   Log-Likelihood:                -63673.\n",
       "converged:                       True   LL-Null:                       -69267.\n",
       "Covariance Type:            nonrobust   LLR p-value:                     0.000\n",
       "=================================================================================\n",
       "                    coef    std err          z      P>|z|      [0.025      0.975]\n",
       "---------------------------------------------------------------------------------\n",
       "const            -3.7040      0.022   -165.843      0.000      -3.748      -3.660\n",
       "total_ads         0.0103   9.91e-05    103.404      0.000       0.010       0.010\n",
       "Public_Ad        -0.3853      0.052     -7.473      0.000      -0.486      -0.284\n",
       "Early Morning    -0.8127      0.067    -12.154      0.000      -0.944      -0.682\n",
       "Morning          -0.3296      0.023    -14.282      0.000      -0.375      -0.284\n",
       "Evening           0.0151      0.020      0.762      0.446      -0.024       0.054\n",
       "Tuesday          -0.0322      0.029     -1.098      0.272      -0.090       0.025\n",
       "Wednesday        -0.2633      0.031     -8.590      0.000      -0.323      -0.203\n",
       "Sunday           -0.2525      0.030     -8.400      0.000      -0.311      -0.194\n",
       "Friday           -0.4633      0.031    -15.106      0.000      -0.523      -0.403\n",
       "Thursday         -0.4040      0.032    -12.772      0.000      -0.466      -0.342\n",
       "Saturday         -0.4423      0.032    -13.843      0.000      -0.505      -0.380\n",
       "=================================================================================\n",
       "\"\"\""
      ]
     },
     "execution_count": 14,
     "metadata": {},
     "output_type": "execute_result"
    }
   ],
   "source": [
    "logit_transformation(df)"
   ]
  }
 ],
 "metadata": {
  "kernelspec": {
   "display_name": "Python 3 (ipykernel)",
   "language": "python",
   "name": "python3"
  },
  "language_info": {
   "codemirror_mode": {
    "name": "ipython",
    "version": 3
   },
   "file_extension": ".py",
   "mimetype": "text/x-python",
   "name": "python",
   "nbconvert_exporter": "python",
   "pygments_lexer": "ipython3",
   "version": "3.9.7"
  }
 },
 "nbformat": 4,
 "nbformat_minor": 5
}
